{
 "cells": [
  {
   "cell_type": "markdown",
   "metadata": {},
   "source": [
    "# Specification Curve\n",
    "\n",
    "Specification Curve is a Python package that performs specification curve analysis; it helps with the problem of the \"garden of forking paths\" (many defensible choices) when doing analysis by running many regressions and summarising effects."
   ]
  },
  {
   "cell_type": "markdown",
   "metadata": {},
   "source": [
    "[![PyPI](https://img.shields.io/pypi/v/specification_curve.svg)](https://pypi.org/project/specification_curve/)\n",
    "[![Status](https://img.shields.io/pypi/status/specification_curve.svg)](https://pypi.org/project/specification_curve/)\n",
    "[![Python Version](https://img.shields.io/pypi/pyversions/specification_curve)](https://pypi.org/project/specification_curve)\n",
    "[![License](https://img.shields.io/pypi/l/specification_curve)](https://opensource.org/licenses/MIT)\n",
    "\n",
    "[![Read the documentation at https://specification_curve.readthedocs.io/](https://img.shields.io/readthedocs/specification_curve/latest.svg?label=Read%20the%20Docs)](https://specification_curve.readthedocs.io/)\n",
    "[![Tests](https://github.com/aeturrell/specification_curve/workflows/Tests/badge.svg)](https://github.com/aeturrell/specification_curve/actions?workflow=Tests)\n",
    "[![Codecov](https://codecov.io/gh/aeturrell/specification_curve/branch/main/graph/badge.svg)](https://codecov.io/gh/aeturrell/specification_curve)\n",
    "\n",
    "[![pre-commit](https://img.shields.io/badge/pre--commit-enabled-brightgreen?logo=pre-commit&logoColor=white)](https://github.com/pre-commit/pre-commit)\n",
    "[![Black](https://img.shields.io/badge/code%20style-black-000000.svg)](https://github.com/psf/black)\n",
    "[![Google Colab](https://colab.research.google.com/assets/colab-badge.svg)](https://colab.research.google.com/gist/aeturrell/438fb066e4471312667268669cef2c11/specification_curve-examples.ipynb)\n",
    "\n",
    "[![DOI](https://zenodo.org/badge/282989537.svg)](https://zenodo.org/badge/latestdoi/282989537)\n",
    "[![Downloads](https://static.pepy.tech/badge/specification-curve)](https://pepy.tech/project/Specification_curve)\n",
    "\n",
    "[![Linux](https://svgshare.com/i/Zhy.svg)](https://svgshare.com/i/Zhy.svg)\n",
    "[![macOS](https://svgshare.com/i/ZjP.svg)](https://svgshare.com/i/ZjP.svg)\n",
    "[![Windows](https://svgshare.com/i/ZhY.svg)](https://svgshare.com/i/ZhY.svg)\n",
    "\n",
    "[![Soure](https://img.shields.io/badge/source%20code-github-lightgrey?style=for-the-badge)](https://github.com/aeturrell/specification_curve)"
   ]
  },
  {
   "cell_type": "markdown",
   "metadata": {},
   "source": [
    "## Quickstart\n",
    "\n",
    "You can try out specification curve right now in [Google Colab](https://colab.research.google.com/gist/aeturrell/438fb066e4471312667268669cef2c11/specification_curve-examples.ipynb)."
   ]
  },
  {
   "cell_type": "markdown",
   "metadata": {},
   "source": [
    "Here's an example of using **Specification Curve**."
   ]
  },
  {
   "cell_type": "code",
   "execution_count": null,
   "metadata": {},
   "outputs": [],
   "source": [
    "from specification_curve import specification_curve as specy\n",
    "\n",
    "import numpy as np\n",
    "import pandas as pd\n",
    "\n",
    "# Generate some fake data\n",
    "# ------------------------\n",
    "# Set seed for random numbers\n",
    "seed_for_prng = 78557\n",
    "# prng=probabilistic random number generator\n",
    "prng = np.random.default_rng(seed_for_prng)  \n",
    "n_samples = 400\n",
    "# Number of dimensions\n",
    "n_dim = 4\n",
    "c_rnd_vars = prng.random(size=(n_dim, n_samples))\n",
    "y_1 = (0.4*c_rnd_vars[0, :] -  # THIS IS THE TRUE VALUE OF THE COEFFICIENT\n",
    "       0.2*c_rnd_vars[1, :] +\n",
    "       0.3*prng.standard_normal(n_samples))\n",
    "# Next line causes y_2 ests to be much more noisy\n",
    "y_2 = y_1 - 0.5*np.abs(prng.standard_normal(n_samples))\n",
    "# Put data into dataframe\n",
    "df = pd.DataFrame([y_1, y_2], ['y1', 'y2']).T\n",
    "df[\"x_1\"] = c_rnd_vars[0, :]\n",
    "df[\"c_1\"] = c_rnd_vars[1, :]\n",
    "df[\"c_2\"] = c_rnd_vars[2, :]\n",
    "df[\"c_3\"] = c_rnd_vars[3, :]\n",
    "\n",
    "# Specification Curve Analysis\n",
    "\n",
    "# Run it with Specification Curve\n",
    "sc = specy.SpecificationCurve(\n",
    "    df,\n",
    "    y_endog=['y1', 'y2'],\n",
    "    x_exog=\"x_1\",\n",
    "    controls=[\"c_1\", \"c_2\", \"c_3\"])\n",
    "sc.fit()\n",
    "sc.plot()"
   ]
  },
  {
   "cell_type": "markdown",
   "metadata": {},
   "source": [
    "Grey squares (black lines when there are many specifications) show whether a variable is included in a specification or not. Blue or red markers and error bars show whether the coefficient is positive and significant (at the 0.05 level) or red and significant, respectively."
   ]
  },
  {
   "cell_type": "markdown",
   "metadata": {},
   "source": [
    "## Installation\n",
    "\n",
    "You can install **Specification Curve** via pip:\n",
    "\n",
    "```bash\n",
    "$ pip install specification-curve\n",
    "```\n",
    "\n",
    "To install the development version from git, use:\n",
    "\n",
    "```bash\n",
    "$ pip install git+https://github.com/aeturrell/specification_curve.git\n",
    "```"
   ]
  },
  {
   "cell_type": "markdown",
   "metadata": {},
   "source": [
    "## Features\n",
    "\n",
    "Let's take a tour of the key features."
   ]
  },
  {
   "cell_type": "markdown",
   "metadata": {},
   "source": [
    "## Requirements\n",
    "\n",
    "You can find a full list of requirements in the [pyproject.toml](https://github.com/aeturrell/skimpy/blob/main/pyproject.toml) file. The\n",
    "main requirements are:"
   ]
  },
  {
   "cell_type": "code",
   "execution_count": null,
   "metadata": {
    "tags": [
     "remove-input"
    ]
   },
   "outputs": [],
   "source": [
    "import toml\n",
    "from pathlib import Path\n",
    "\n",
    "config = toml.load(Path(\"../pyproject.toml\"))\n",
    "dict_main_deps = config[\"tool\"][\"poetry\"][\"dependencies\"]\n",
    "for key, value in dict_main_deps.items():\n",
    "    print(f\"{key} {value}\")"
   ]
  },
  {
   "cell_type": "markdown",
   "metadata": {},
   "source": [
    "## License\n",
    "\n",
    "Distributed under the terms of the [MIT license](https://opensource.org/licenses/MIT).\n",
    "\n",
    "## Credits\n",
    "\n",
    "The package is built with [poetry](https://python-poetry.org/), while the documentation is built with [Jupyter Book](https://jupyterbook.org). Tests are run with [nox](https://nox.thea.codes/en/stable/)."
   ]
  }
 ],
 "metadata": {
  "kernelspec": {
   "display_name": "Python 3.8.8 ('.venv': poetry)",
   "language": "python",
   "name": "python3"
  },
  "language_info": {
   "codemirror_mode": {
    "name": "ipython",
    "version": 3
   },
   "file_extension": ".py",
   "mimetype": "text/x-python",
   "name": "python",
   "nbconvert_exporter": "python",
   "pygments_lexer": "ipython3",
   "version": "3.8.8"
  },
  "vscode": {
   "interpreter": {
    "hash": "9a56c79ed317bff88c5e0d313be0f07aaff1a9263474366e1d2ff38920c2e652"
   }
  }
 },
 "nbformat": 4,
 "nbformat_minor": 4
}
