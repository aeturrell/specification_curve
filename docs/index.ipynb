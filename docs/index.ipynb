{
 "cells": [
  {
   "cell_type": "markdown",
   "metadata": {},
   "source": [
    "---\n",
    "title: \"Specification Curve\"\n",
    "jupyter: python3\n",
    "bibliography: biblio.bib\n",
    "---"
   ]
  },
  {
   "cell_type": "markdown",
   "metadata": {},
   "source": [
    "Specification Curve is a Python package that performs specification curve analysis; it helps with the problem of the \"garden of forking paths\" (many defensible choices) when doing analysis by running many regressions and summarising the effects in an easy to digest chart."
   ]
  },
  {
   "cell_type": "markdown",
   "metadata": {},
   "source": [
    "[![PyPI](https://img.shields.io/pypi/v/specification_curve.svg)](https://pypi.org/project/specification_curve/)\n",
    "[![Status](https://img.shields.io/pypi/status/specification_curve.svg)](https://pypi.org/project/specification_curve/)\n",
    "[![Python Version](https://img.shields.io/pypi/pyversions/specification_curve)](https://pypi.org/project/specification_curve)\n",
    "[![License](https://img.shields.io/pypi/l/specification_curve)](https://opensource.org/licenses/MIT)\n",
    "[![Tests](https://github.com/aeturrell/specification_curve/workflows/Tests/badge.svg)](https://github.com/aeturrell/specification_curve/actions?workflow=Tests)\n",
    "[![Codecov](https://codecov.io/gh/aeturrell/specification_curve/branch/main/graph/badge.svg)](https://codecov.io/gh/aeturrell/specification_curve)\n",
    "[![pre-commit](https://img.shields.io/badge/pre--commit-enabled-brightgreen?logo=pre-commit&logoColor=white)](https://github.com/pre-commit/pre-commit)\n",
    "[![Google Colab](https://colab.research.google.com/assets/colab-badge.svg)](https://colab.research.google.com/github/aeturrell/specification_curve/blob/master/docs/features.ipynb)\n",
    "[![DOI](https://zenodo.org/badge/282989537.svg)](https://zenodo.org/badge/latestdoi/282989537)\n",
    "[![Downloads](https://static.pepy.tech/badge/specification-curve)](https://pepy.tech/project/Specification_curve)\n",
    "![Linux](https://img.shields.io/badge/Linux-FCC624?style=for-the-badge&logo=linux&logoColor=black)\n",
    "![macOS](https://img.shields.io/badge/mac%20os-000000?style=for-the-badge&logo=macos&logoColor=F0F0F0)\n",
    "![Windows](https://img.shields.io/badge/Windows-0078D6?style=for-the-badge&logo=windows&logoColor=white)\n",
    "[![Source](https://img.shields.io/badge/source%20code-github-lightgrey?style=for-the-badge)](https://github.com/aeturrell/specification_curve)"
   ]
  },
  {
   "cell_type": "markdown",
   "metadata": {},
   "source": [
    "## Introduction\n",
    "\n",
    "When specifying a causal model, modellers have a number of options. These can be informed by field intelligence, priors, and even misguided attempts to find a significant result. Even with the best of intentions, research teams can reach entirely different conclusions using the same, or similar, data because of different choices made in preparing data or in modelling it.\n",
    "\n",
    "Typically this happens when there isn’t a clear way to do \"feature engineering\" on the data or the data are imperfect in some way. For example, you have a high frequency time series which needs to be aggregated to a lower frequency: you could take the maximum, the minimum, or the average over each high frequency time period. A different choice may be appropriate in different settings.\n",
    "\n",
    "There's formal evidence that researchers really do make different decisions; one study [@silberzahn2018many] gave the same research question---whether soccer referees are more likely to give red cards to players with dark skin tones than to players with light skin tones---to 29 different teams. From the abstract of that paper:\n",
    "\n",
    "> Analytic approaches varied widely across the teams, and the estimated effect sizes ranged from 0.89 to 2.93 (Mdn = 1.31) in odds-ratio units. Twenty teams (69%) found a statistically significant positive effect, and 9 teams (31%) did not observe a significant relationship. Overall, the 29 different analyses used 21 unique combinations of covariates. Neither analysts’ prior beliefs about the effect of interest nor their level of expertise readily explained the variation in the outcomes of the analyses. Peer ratings of the quality of the analyses also did not account for the variability.\n",
    "\n",
    "So not only can different decisions made, but there seems to be no clearly identifiable reason for them!\n",
    "\n",
    "There have since been a number of papers that find similar conclusions [@huntington2021influence].\n",
    "\n",
    "Specification curves have been invented [@simonsohn2020specification] as a way to better grasp the garden of forking paths that analysts face, and help them show how sensitive their results are to alternative specifications.\n",
    "\n",
    "More than one piece of software [@masur2019specr] has appeared to help researchers and analysts use this technique: **specification curve** is one such package!"
   ]
  },
  {
   "cell_type": "markdown",
   "metadata": {},
   "source": [
    "## Quickstart\n",
    "\n",
    "You can try out specification curve right now in [Google Colab](https://colab.research.google.com/github/aeturrell/specification_curve/blob/master/docs/features.ipynb). To install the package in Colab, run `!pip install specification_curve` in a new code cell.\n",
    "\n",
    "Here's an example of using **Specification Curve**."
   ]
  },
  {
   "cell_type": "code",
   "execution_count": null,
   "metadata": {},
   "outputs": [],
   "source": [
    "# | echo: false\n",
    "\n",
    "import matplotlib_inline.backend_inline\n",
    "\n",
    "matplotlib_inline.backend_inline.set_matplotlib_formats(\"svg\")"
   ]
  },
  {
   "cell_type": "code",
   "execution_count": null,
   "metadata": {},
   "outputs": [],
   "source": [
    "# import specification curve\n",
    "# Generate some fake data\n",
    "# ------------------------\n",
    "import numpy as np\n",
    "import pandas as pd\n",
    "import specification_curve as specy\n",
    "\n",
    "# Set seed for random numbers\n",
    "seed_for_prng = 78557\n",
    "# prng=probabilistic random number generator\n",
    "prng = np.random.default_rng(seed_for_prng)\n",
    "n_samples = 400\n",
    "# Number of dimensions\n",
    "n_dim = 4\n",
    "c_rnd_vars = prng.random(size=(n_dim, n_samples))\n",
    "y_1 = (\n",
    "    0.4 * c_rnd_vars[0, :]  # THIS IS THE TRUE VALUE OF THE COEFFICIENT\n",
    "    - 0.2 * c_rnd_vars[1, :]\n",
    "    + 0.3 * prng.standard_normal(n_samples)\n",
    ")\n",
    "# Next line causes y_2 ests to be much more noisy\n",
    "y_2 = y_1 - 0.5 * np.abs(prng.standard_normal(n_samples))\n",
    "# Put data into dataframe\n",
    "df = pd.DataFrame([y_1, y_2], [\"y1\", \"y2\"]).T\n",
    "df[\"x_1\"] = c_rnd_vars[0, :]\n",
    "df[\"c_1\"] = c_rnd_vars[1, :]\n",
    "df[\"c_2\"] = c_rnd_vars[2, :]\n",
    "df[\"c_3\"] = c_rnd_vars[3, :]\n",
    "\n",
    "# Specification Curve Analysis\n",
    "# -----------------------------\n",
    "sc = specy.SpecificationCurve(\n",
    "    df, y_endog=[\"y1\", \"y2\"], x_exog=\"x_1\", controls=[\"c_1\", \"c_2\", \"c_3\"]\n",
    ")\n",
    "sc.fit()\n",
    "sc.plot()"
   ]
  },
  {
   "cell_type": "markdown",
   "metadata": {},
   "source": [
    "Grey squares (black lines when there are many specifications) show whether a variable is included in a specification or not. Blue or red markers and error bars show whether the coefficient is positive and significant (at the 0.05 level) or red and significant, respectively."
   ]
  },
  {
   "cell_type": "markdown",
   "metadata": {},
   "source": [
    "You can also specify the same model by passing a string to the formula API. This takes specifications in the form:\n",
    "\n",
    "\"endogenous ~ exogenous + controls to always include + controls\"\n",
    "\n",
    "with any alternatives given by the \"|\" character.\n",
    "\n",
    "For example:\n",
    "\n",
    "\"y1 | y2 ~ x1 | x2 | x3 + c1 + c2 + c3 | c4\"\n",
    "\n",
    "would run specifications of y1, y2 on x1, x2, with c1 and c2 always included as controls and c3 and c4 included controls that are included combinatorially.\n",
    "\n",
    "Here's an example:"
   ]
  },
  {
   "cell_type": "code",
   "execution_count": null,
   "metadata": {},
   "outputs": [],
   "source": [
    "df = specy.load_example_data1()\n",
    "sc = specy.SpecificationCurve(df=df, formula=\"y1 ~ x1 | x2 + group1 + c1 | c2\")\n",
    "sc.fit()\n",
    "sc.plot()"
   ]
  },
  {
   "cell_type": "markdown",
   "metadata": {},
   "source": [
    "## Installation\n",
    "\n",
    "You can install **Specification Curve** via pip:\n",
    "\n",
    "```bash\n",
    "$ pip install specification-curve\n",
    "```\n",
    "\n",
    "To install the development version from git, use:\n",
    "\n",
    "```bash\n",
    "$ pip install git+https://github.com/aeturrell/specification_curve.git\n",
    "```"
   ]
  },
  {
   "cell_type": "markdown",
   "metadata": {},
   "source": [
    "## License\n",
    "\n",
    "Distributed under the terms of the [MIT license](https://opensource.org/licenses/MIT).\n",
    "\n",
    "## Citing Specification Curve\n",
    "\n",
    "You can find full citation information at the following link: [https://zenodo.org/badge/latestdoi/282989537](https://zenodo.org/badge/latestdoi/282989537).\n",
    "\n",
    "Using **Specification Curve** in your paper? Let us know by raising an issue beginning with \"citation\".\n",
    "\n",
    "## Similar Packages\n",
    "\n",
    "In RStats, there is [specr](https://github.com/masurp/specr) (which inspired many design choices in this package) and [spec_chart](https://github.com/ArielOrtizBobea/spec_chart). Some of the example data in this package is the same as in specr, but please note that results have not been cross-checked across packages."
   ]
  },
  {
   "cell_type": "markdown",
   "metadata": {},
   "source": [
    "## References\n",
    "\n",
    "::: {#refs}\n",
    ":::"
   ]
  }
 ],
 "metadata": {
  "kernelspec": {
   "display_name": ".venv",
   "language": "python",
   "name": "python3"
  },
  "language_info": {
   "codemirror_mode": {
    "name": "ipython",
    "version": 3
   },
   "file_extension": ".py",
   "mimetype": "text/x-python",
   "name": "python",
   "nbconvert_exporter": "python",
   "pygments_lexer": "ipython3",
   "version": "3.10.12"
  }
 },
 "nbformat": 4,
 "nbformat_minor": 4
}
